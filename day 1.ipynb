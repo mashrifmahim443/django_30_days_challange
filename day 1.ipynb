{
 "cells": [
  {
   "cell_type": "code",
   "execution_count": 27,
   "id": "86a484b0",
   "metadata": {},
   "outputs": [
    {
     "name": "stdout",
     "output_type": "stream",
     "text": [
      "None\n",
      "jawad\n"
     ]
    }
   ],
   "source": [
    "person = [\n",
    "    {\"name\":\"mahim\",\"roll\":667092,\"dept\":\"cst\"},\n",
    "    {\"name\":\"jawad\",\"roll\":667099,\"dept\":\"EEE\"}\n",
    "]\n",
    "\n",
    "first_person = person[0]\n",
    "first_person_name = first_person.get(\"home\")\n",
    "print(first_person_name)\n",
    "\n",
    "\n",
    "second_person = person[1]\n",
    "second_person_name=second_person.get(\"name\")\n",
    "print(second_person_name)"
   ]
  },
  {
   "cell_type": "code",
   "execution_count": null,
   "id": "a070ee65",
   "metadata": {},
   "outputs": [
    {
     "name": "stdout",
     "output_type": "stream",
     "text": [
      "child age is20\n",
      "childs name is ninit\n"
     ]
    }
   ],
   "source": [
    "author = {\n",
    "    \"name\":\"Humaion Ahmed\",\n",
    "    \"books\":[\"one\",\"two\"],\n",
    "    \"children\":[\n",
    "        {\"name\":\"nuhash\",\"age\":20,\"class\":\"HSC\"},\n",
    "        {\"name\":\"ninit\",\"age\":20,\"class\":\"SSC\"}\n",
    "        ]\n",
    "}\n",
    "\n",
    "authors_children = author.get('children')\n",
    "print(authors_children)\n",
    "\n",
    "child_1 = authors_children[0]\n",
    "print(child_1)\n",
    "\n",
    "child_1_name = child_1.get(\"name\")\n",
    "print(child_1_name)\n",
    "\n",
    "child_2 = authors_children[1]\n",
    "print(child_2)\n",
    "\n",
    "child_2_name = child_2.get(\"name\")\n",
    "print(child_2_name)\n",
    "\n",
    "#or alternative\n",
    "\n",
    "\n",
    "age=author.get(\"children\")[0].get(\"age\")\n",
    "print(f\"child age is{age}\")\n",
    "\n",
    "name=author.get(\"children\")[1].get(\"name\")\n",
    "print(f\"childs name is {name}\")"
   ]
  },
  {
   "cell_type": "code",
   "execution_count": 56,
   "id": "3f9af9dd",
   "metadata": {},
   "outputs": [
    {
     "name": "stdout",
     "output_type": "stream",
     "text": [
      "False\n"
     ]
    }
   ],
   "source": [
    "name = \"mahim\"\n",
    "\n",
    "username = name is None\n",
    "\n",
    "print(username)\n"
   ]
  },
  {
   "cell_type": "code",
   "execution_count": 6,
   "id": "f200b56a",
   "metadata": {},
   "outputs": [
    {
     "name": "stdout",
     "output_type": "stream",
     "text": [
      "False\n",
      "True\n",
      "True\n"
     ]
    }
   ],
   "source": [
    "club_member = [\n",
    "    \"mahim\",\n",
    "    \"jawad\",\n",
    "    \"rahim\",\n",
    "    \"karim\"\n",
    "    \"abdul\"\n",
    "]\n",
    "\n",
    "condition = \"rakib\" in club_member\n",
    "print(condition)\n",
    "\n",
    "print(\"mahim\"  in club_member)\n",
    "print(\"abudul\" not in club_member)"
   ]
  },
  {
   "cell_type": "code",
   "execution_count": null,
   "id": "390a6c54",
   "metadata": {},
   "outputs": [
    {
     "name": "stdout",
     "output_type": "stream",
     "text": [
      "Vawel\n"
     ]
    }
   ],
   "source": [
    "letter = str(input(\"Enter the letter\"))\n",
    "if (letter==\"a\"):\n",
    "    print(\"vawel\")\n",
    "elif (letter == \"A\"):\n",
    "    print(\"Vawel\")\n",
    "elif (letter == \"e\"):\n",
    "    print(\"Vawel\")\n",
    "elif (letter == \"E\"):\n",
    "    print(\"Vawel\")\n",
    "elif (letter == \"i\"):\n",
    "    print(\"Vawel\")\n",
    "elif (letter == \"I\"):\n",
    "    print(\"Vawel\")\n",
    "\n",
    "#so on"
   ]
  },
  {
   "cell_type": "code",
   "execution_count": 10,
   "id": "c3864776",
   "metadata": {},
   "outputs": [
    {
     "name": "stdout",
     "output_type": "stream",
     "text": [
      "This is consonant\n"
     ]
    }
   ],
   "source": [
    "letter = str(input(\"Enter the letter\"))\n",
    "if (letter==\"a\") or (letter==\"A\") or (letter==\"e\") or (letter==\"E\") or (letter == \"i\") or (letter==\"I\") or (letter==\"o\") or (letter==\"O\") or (letter==\"u\") or (letter==\"U\"):\n",
    "    print(f\"{letter} is vawel\")\n",
    "else:\n",
    "    print(\"This is consonant\")"
   ]
  },
  {
   "cell_type": "code",
   "execution_count": 11,
   "id": "8e1eef82",
   "metadata": {},
   "outputs": [
    {
     "name": "stdout",
     "output_type": "stream",
     "text": [
      "This is consonant\n"
     ]
    }
   ],
   "source": [
    "vawels = [\n",
    "    \"a\", \"e\", \"i\", \"o\", \"u\"\n",
    "    \"A\", \"E\", \"I\", \"O\", \"U\"\n",
    "]\n",
    "\n",
    "letter = str(input(\"Enter the letter\"))\n",
    "\n",
    "if letter in vawels:\n",
    "    print(\"This is vawel\")\n",
    "else:\n",
    "    print(\"This is consonant\")"
   ]
  },
  {
   "cell_type": "code",
   "execution_count": 16,
   "id": "cc4056b5",
   "metadata": {},
   "outputs": [
    {
     "name": "stdout",
     "output_type": "stream",
     "text": [
      "Tuesday\n"
     ]
    }
   ],
   "source": [
    "num = int(input(\"Enter the num\"))\n",
    "if num==1:\n",
    "    print(\"Saturday\")\n",
    "elif num==2:\n",
    "    print(\"Sunday\")\n",
    "elif num==3:\n",
    "    print(\"Monday\")\n",
    "elif num==4:\n",
    "    print(\"Tuesday\")\n",
    "elif num==5:\n",
    "    print(\"thursday\")\n",
    "elif num==6:\n",
    "    print(\"Wednesday\")\n",
    "elif num==7:\n",
    "    print(\"friday\")\n",
    "else:\n",
    "    print(\"Please enter the number between 1-7\")"
   ]
  }
 ],
 "metadata": {
  "kernelspec": {
   "display_name": "Python 3",
   "language": "python",
   "name": "python3"
  },
  "language_info": {
   "codemirror_mode": {
    "name": "ipython",
    "version": 3
   },
   "file_extension": ".py",
   "mimetype": "text/x-python",
   "name": "python",
   "nbconvert_exporter": "python",
   "pygments_lexer": "ipython3",
   "version": "3.10.11"
  }
 },
 "nbformat": 4,
 "nbformat_minor": 5
}
