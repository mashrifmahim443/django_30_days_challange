{
 "cells": [
  {
   "cell_type": "code",
   "execution_count": null,
   "id": "a1c333ee",
   "metadata": {},
   "outputs": [],
   "source": [
    "country = \"Bangladesh\"\n",
    "count_vawels = 0\n",
    "count_consonant = 0\n",
    "\n",
    "vawels = [\"a\",\"A\",\"e\",\"E\",\"i\",\"I\",\"o\",\"O\",\"u\",\"U\"]\n",
    "\n",
    "for character in country:\n",
    "    if character in vawels:\n",
    "        count_vawels = count_vawels+1\n",
    "    else:\n",
    "        count_consonant = count_consonant+1\n",
    "print(f\"Total Number of vawels is {count_vawels} and Total Number of consonants  {count_consonant}\")"
   ]
  },
  {
   "cell_type": "code",
   "execution_count": null,
   "id": "7037dec9",
   "metadata": {},
   "outputs": [],
   "source": [
    "\n",
    "for i in range (1,101):\n",
    "    if i%2==0:\n",
    "        print(i)"
   ]
  },
  {
   "cell_type": "code",
   "execution_count": null,
   "id": "819f2dcb",
   "metadata": {},
   "outputs": [],
   "source": [
    "n1 = 2\n",
    "n2 = 5\n",
    "\n",
    "for number in range(n1 , n2+1):\n",
    "    print(f\"{number} er namta : \")\n",
    "\n",
    "    for j in range(1, 11):\n",
    "        print(f\"{number} X {j} = {number * j}\")\n",
    "\n",
    "print(\"-----------------------------------\")"
   ]
  },
  {
   "cell_type": "code",
   "execution_count": null,
   "id": "1e5bacbb",
   "metadata": {},
   "outputs": [],
   "source": [
    "import random\n",
    "number=random.randint(1,10)\n",
    "print(number)"
   ]
  },
  {
   "cell_type": "code",
   "execution_count": null,
   "id": "de97a6cd",
   "metadata": {},
   "outputs": [],
   "source": [
    "n = int(input())"
   ]
  },
  {
   "cell_type": "code",
   "execution_count": null,
   "id": "715c6b72",
   "metadata": {},
   "outputs": [],
   "source": [
    "##function based polimorphism"
   ]
  },
  {
   "cell_type": "code",
   "execution_count": null,
   "id": "d5e3ed3a",
   "metadata": {},
   "outputs": [
    {
     "name": "stdout",
     "output_type": "stream",
     "text": [
      "['tupi', 'panjabi', 'shirt', 'pant'] man\n"
     ]
    }
   ],
   "source": [
    "# lst = [\"tupi\",\"panjabi\",\"shirt\",\"pant\"]\n",
    "\n",
    "# print(lst,'man')"
   ]
  },
  {
   "cell_type": "code",
   "execution_count": null,
   "id": "cdc3326d",
   "metadata": {},
   "outputs": [
    {
     "name": "stdout",
     "output_type": "stream",
     "text": [
      "tupi man\n",
      "panjabi man\n",
      "shirt man\n",
      "pant man\n"
     ]
    }
   ],
   "source": [
    "# lst = [\"tupi\",\"panjabi\",\"shirt\",\"pant\"]\n",
    "# for main in lst:\n",
    "#     print(main,\"man\")"
   ]
  },
  {
   "cell_type": "code",
   "execution_count": 26,
   "id": "e5ad1250",
   "metadata": {},
   "outputs": [
    {
     "data": {
      "text/plain": [
       "['tupi', 'panjabi', 'shirt', 'pant', 'man']"
      ]
     },
     "execution_count": 26,
     "metadata": {},
     "output_type": "execute_result"
    }
   ],
   "source": [
    "lst = [\"tupi\",\"panjabi\",\"shirt\",\"pant\"]+['man']\n",
    "lst"
   ]
  },
  {
   "cell_type": "code",
   "execution_count": null,
   "id": "16890fb6",
   "metadata": {},
   "outputs": [],
   "source": [
    "##string revarse\n",
    "\n",
    "##word revarse  \n",
    "\n"
   ]
  }
 ],
 "metadata": {
  "kernelspec": {
   "display_name": "Python 3",
   "language": "python",
   "name": "python3"
  },
  "language_info": {
   "codemirror_mode": {
    "name": "ipython",
    "version": 3
   },
   "file_extension": ".py",
   "mimetype": "text/x-python",
   "name": "python",
   "nbconvert_exporter": "python",
   "pygments_lexer": "ipython3",
   "version": "3.10.11"
  }
 },
 "nbformat": 4,
 "nbformat_minor": 5
}
