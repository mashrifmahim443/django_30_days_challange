{
 "cells": [
  {
   "cell_type": "code",
   "execution_count": 16,
   "id": "fc12f037",
   "metadata": {},
   "outputs": [
    {
     "name": "stdout",
     "output_type": "stream",
     "text": [
      "you name is mahim your age is 20\n"
     ]
    }
   ],
   "source": [
    "def name_and_age(name,age):\n",
    "    # name=\"mahim\"\n",
    "    # age=20\n",
    "    print(f\"you name is {name} your age is {age}\")\n",
    "name_and_age(name=\"mahim\",age=20)"
   ]
  },
  {
   "cell_type": "code",
   "execution_count": 17,
   "id": "2157fdfb",
   "metadata": {},
   "outputs": [
    {
     "data": {
      "text/plain": [
       "30"
      ]
     },
     "execution_count": 17,
     "metadata": {},
     "output_type": "execute_result"
    }
   ],
   "source": [
    "def add_somethig(a,b):\n",
    "    return a+b\n",
    "add_somethig(a=10,b=20)"
   ]
  },
  {
   "cell_type": "code",
   "execution_count": 7,
   "id": "10064391",
   "metadata": {},
   "outputs": [
    {
     "name": "stdout",
     "output_type": "stream",
     "text": [
      "This is not palindrome\n"
     ]
    }
   ],
   "source": [
    "def revarse(string):\n",
    "    if string[::-1] == string:\n",
    "        print(\"this is palindrome\")\n",
    "    else:\n",
    "        print(\"This is not palindrome\")\n",
    "revarse(string=\"main\")"
   ]
  },
  {
   "cell_type": "code",
   "execution_count": 9,
   "id": "ee93b6d3",
   "metadata": {},
   "outputs": [
    {
     "name": "stdout",
     "output_type": "stream",
     "text": [
      "rednow\n"
     ]
    }
   ],
   "source": [
    "def rvs(word):\n",
    "    wdl = word[::-1]\n",
    "    print(wdl)\n",
    "rvs(word=\"wonder\")"
   ]
  },
  {
   "cell_type": "code",
   "execution_count": 10,
   "id": "6344aa66",
   "metadata": {},
   "outputs": [
    {
     "data": {
      "text/plain": [
       "260"
      ]
     },
     "execution_count": 10,
     "metadata": {},
     "output_type": "execute_result"
    }
   ],
   "source": [
    "def my_sum(a,b):\n",
    "    return a+b\n",
    "def my_sum_1(a,b,c):\n",
    "    return a+b+c\n",
    "def my_sum_2(a,b,c,d):\n",
    "    return a+b+c+d\n",
    "\n",
    "my_sum(10,20)\n",
    "my_sum(99,98)\n",
    "\n",
    "my_sum_1(20,30,40)\n",
    "my_sum_1(99,98,97)\n",
    "\n",
    "my_sum_2(10,20,30,40)\n",
    "my_sum_2(50,60,70,80)"
   ]
  },
  {
   "cell_type": "code",
   "execution_count": null,
   "id": "bb041f37",
   "metadata": {},
   "outputs": [
    {
     "name": "stdout",
     "output_type": "stream",
     "text": [
      "8\n",
      "6\n",
      "10\n",
      "15\n",
      "21\n"
     ]
    },
    {
     "ename": "TypeError",
     "evalue": "unsupported operand type(s) for +=: 'int' and 'tuple'",
     "output_type": "error",
     "traceback": [
      "\u001b[1;31m---------------------------------------------------------------------------\u001b[0m",
      "\u001b[1;31mTypeError\u001b[0m                                 Traceback (most recent call last)",
      "Cell \u001b[1;32mIn[15], line 12\u001b[0m\n\u001b[0;32m     10\u001b[0m \u001b[38;5;28mprint\u001b[39m(my_sum(\u001b[38;5;241m1\u001b[39m, \u001b[38;5;241m2\u001b[39m, \u001b[38;5;241m3\u001b[39m, \u001b[38;5;241m4\u001b[39m, \u001b[38;5;241m5\u001b[39m))\n\u001b[0;32m     11\u001b[0m \u001b[38;5;28mprint\u001b[39m(my_sum(\u001b[38;5;241m1\u001b[39m, \u001b[38;5;241m2\u001b[39m, \u001b[38;5;241m3\u001b[39m, \u001b[38;5;241m4\u001b[39m, \u001b[38;5;241m5\u001b[39m, \u001b[38;5;241m6\u001b[39m))\n\u001b[1;32m---> 12\u001b[0m \u001b[38;5;28mprint\u001b[39m(\u001b[43mmy_sum\u001b[49m\u001b[43m(\u001b[49m\u001b[43m(\u001b[49m\u001b[38;5;241;43m1\u001b[39;49m\u001b[43m,\u001b[49m\u001b[43m \u001b[49m\u001b[38;5;241;43m2\u001b[39;49m\u001b[43m,\u001b[49m\u001b[43m \u001b[49m\u001b[38;5;241;43m3\u001b[39;49m\u001b[43m,\u001b[49m\u001b[43m \u001b[49m\u001b[38;5;241;43m4\u001b[39;49m\u001b[43m,\u001b[49m\u001b[38;5;124;43m\"\u001b[39;49m\u001b[38;5;124;43ma\u001b[39;49m\u001b[38;5;124;43m\"\u001b[39;49m\u001b[43m,\u001b[49m\u001b[43m \u001b[49m\u001b[38;5;241;43m5\u001b[39;49m\u001b[43m,\u001b[49m\u001b[43m \u001b[49m\u001b[38;5;241;43m6\u001b[39;49m\u001b[43m,\u001b[49m\u001b[43m \u001b[49m\u001b[38;5;241;43m7\u001b[39;49m\u001b[43m,\u001b[49m\u001b[38;5;241;43m8\u001b[39;49m\u001b[43m)\u001b[49m\u001b[43m)\u001b[49m)\n",
      "Cell \u001b[1;32mIn[15], line 4\u001b[0m, in \u001b[0;36mmy_sum\u001b[1;34m(*args)\u001b[0m\n\u001b[0;32m      2\u001b[0m \u001b[38;5;28msum\u001b[39m \u001b[38;5;241m=\u001b[39m \u001b[38;5;241m0\u001b[39m\n\u001b[0;32m      3\u001b[0m \u001b[38;5;28;01mfor\u001b[39;00m digits \u001b[38;5;129;01min\u001b[39;00m args:\n\u001b[1;32m----> 4\u001b[0m     \u001b[38;5;28msum\u001b[39m\u001b[38;5;241m+\u001b[39m\u001b[38;5;241m=\u001b[39mdigits\n\u001b[0;32m      5\u001b[0m \u001b[38;5;28;01mreturn\u001b[39;00m \u001b[38;5;28msum\u001b[39m\n",
      "\u001b[1;31mTypeError\u001b[0m: unsupported operand type(s) for +=: 'int' and 'tuple'"
     ]
    }
   ],
   "source": [
    "def my_sum( *args):\n",
    "    sum = 0\n",
    "    for digits in args:\n",
    "        sum+=digits\n",
    "    return sum\n",
    "\n",
    "print(my_sum(3, 5))\n",
    "print(my_sum(1, 2, 3))\n",
    "print(my_sum(1, 2,\"o\", 3, 4))\n",
    "print(my_sum(1, 2, 3, 4, 5))\n",
    "print(my_sum(1, 2, 3, 4, \"m\",5, 6))\n",
    "print(my_sum((1, 2, 3, 4,\"a\", 5, 6, 7,8)))"
   ]
  },
  {
   "cell_type": "code",
   "execution_count": 19,
   "id": "cad0923e",
   "metadata": {},
   "outputs": [
    {
     "name": "stdout",
     "output_type": "stream",
     "text": [
      "hello Mahim\n"
     ]
    }
   ],
   "source": [
    "def greet(username,is_looged_in):\n",
    "    if is_looged_in == True:\n",
    "        print(f\"hello {username}\")\n",
    "    else:\n",
    "        print(\"Please login first to go ahed\")\n",
    "greet(\n",
    "    username=\"Mahim\",\n",
    "    is_looged_in=True\n",
    ")"
   ]
  },
  {
   "cell_type": "code",
   "execution_count": null,
   "id": "54ec53ba",
   "metadata": {},
   "outputs": [
    {
     "name": "stdout",
     "output_type": "stream",
     "text": [
      "(1, 2, 3, 4, 5, 6)\n",
      "{'usrname': 'mahim', 'dept': 'CST'}\n"
     ]
    }
   ],
   "source": [
    "def some(*args,**kwargs):\n",
    "    print(args)\n",
    "    print(kwargs)\n",
    "some(1,2,3,4,5,6,usrname=\"mahim\",dept=\"CST\")"
   ]
  }
 ],
 "metadata": {
  "kernelspec": {
   "display_name": "Python 3",
   "language": "python",
   "name": "python3"
  },
  "language_info": {
   "codemirror_mode": {
    "name": "ipython",
    "version": 3
   },
   "file_extension": ".py",
   "mimetype": "text/x-python",
   "name": "python",
   "nbconvert_exporter": "python",
   "pygments_lexer": "ipython3",
   "version": "3.10.11"
  }
 },
 "nbformat": 4,
 "nbformat_minor": 5
}
