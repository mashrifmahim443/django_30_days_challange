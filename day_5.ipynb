{
 "cells": [
  {
   "cell_type": "code",
   "execution_count": 4,
   "id": "13be2be0",
   "metadata": {},
   "outputs": [
    {
     "name": "stdout",
     "output_type": "stream",
     "text": [
      "Here c variable is used for to store a+b variable in c\n"
     ]
    }
   ],
   "source": [
    "def sum(a,b):\n",
    "    \"\"\"Here c variable is used for to store a+b variable in c\"\"\"\n",
    "    c=a+b\n",
    "print(sum.__doc__)"
   ]
  },
  {
   "cell_type": "code",
   "execution_count": 9,
   "id": "03ba1717",
   "metadata": {},
   "outputs": [
    {
     "ename": "NameError",
     "evalue": "name 'power' is not defined",
     "output_type": "error",
     "traceback": [
      "\u001b[1;31m---------------------------------------------------------------------------\u001b[0m",
      "\u001b[1;31mNameError\u001b[0m                                 Traceback (most recent call last)",
      "Cell \u001b[1;32mIn[9], line 4\u001b[0m\n\u001b[0;32m      2\u001b[0m \u001b[38;5;28;01mdef\u001b[39;00m\u001b[38;5;250m \u001b[39m\u001b[38;5;21mcalculate\u001b[39m(base_number,power):\n\u001b[0;32m      3\u001b[0m     \u001b[38;5;28;01mreturn\u001b[39;00m base_number\u001b[38;5;241m*\u001b[39m\u001b[38;5;241m*\u001b[39mpower\n\u001b[1;32m----> 4\u001b[0m squre \u001b[38;5;241m=\u001b[39m partial(calculate,\u001b[43mpower\u001b[49m \u001b[38;5;241m==\u001b[39m \u001b[38;5;241m2\u001b[39m)\n\u001b[0;32m      5\u001b[0m qube \u001b[38;5;241m=\u001b[39m partial(calculate,(power\u001b[38;5;241m==\u001b[39m\u001b[38;5;241m3\u001b[39m))\n\u001b[0;32m      6\u001b[0m calculate(\u001b[38;5;241m10\u001b[39m,\u001b[38;5;241m2\u001b[39m)\n",
      "\u001b[1;31mNameError\u001b[0m: name 'power' is not defined"
     ]
    }
   ],
   "source": [
    "from functools import partial\n",
    "def calculate(base_number,power):\n",
    "    \n",
    "    return base_number**power\n",
    "    \n",
    "squre = partial(calculate,power == 2)\n",
    "qube = partial(calculate,(power==3))\n",
    "calculate(10,2)"
   ]
  },
  {
   "cell_type": "code",
   "execution_count": 17,
   "id": "5e77635a",
   "metadata": {},
   "outputs": [
    {
     "name": "stdout",
     "output_type": "stream",
     "text": [
      "g\n"
     ]
    }
   ],
   "source": [
    "demo = \"A quick brown jumps over the lazy dog\"\n",
    "##\"\"\"Print the chast charecter of this quote\"\"\"\n",
    "len_of_demo = len(demo)\n",
    "\n",
    "last_char = demo[len_of_demo-1]\n",
    "\n",
    "print(last_char)"
   ]
  },
  {
   "cell_type": "code",
   "execution_count": null,
   "metadata": {},
   "outputs": [
    {
     "name": "stdout",
     "output_type": "stream",
     "text": [
      "f\n"
     ]
    }
   ],
   "source": [
    "demo  = \"funny\"\n",
    "print(demo[:])"
   ]
  },
  {
   "cell_type": "code",
   "execution_count": 34,
   "id": "dad8856f",
   "metadata": {},
   "outputs": [
    {
     "name": "stdout",
     "output_type": "stream",
     "text": [
      " python\n"
     ]
    }
   ],
   "source": [
    "demo = \"I am a big fan of python\"\n",
    "\n",
    "print(demo[17:24])"
   ]
  },
  {
   "cell_type": "code",
   "execution_count": 5,
   "metadata": {},
   "outputs": [
    {
     "name": "stdout",
     "output_type": "stream",
     "text": [
      "MAIN\n"
     ]
    }
   ],
   "source": [
    "demo = \"main\"\n",
    "ans = demo.upper()\n",
    "print(ans)"
   ]
  },
  {
   "cell_type": "code",
   "execution_count": 6,
   "id": "6b472aea",
   "metadata": {},
   "outputs": [
    {
     "name": "stdout",
     "output_type": "stream",
     "text": [
      "world\n"
     ]
    }
   ],
   "source": [
    "demo = \"WORLD\"\n",
    "ans = demo.lower()\n",
    "print(ans)"
   ]
  },
  {
   "cell_type": "code",
   "execution_count": 7,
   "id": "3600b12f",
   "metadata": {},
   "outputs": [
    {
     "name": "stdout",
     "output_type": "stream",
     "text": [
      "World\n"
     ]
    }
   ],
   "source": [
    "ans1=demo.capitalize()\n",
    "print(ans1)"
   ]
  },
  {
   "cell_type": "code",
   "execution_count": 13,
   "id": "c720e2b6",
   "metadata": {},
   "outputs": [
    {
     "name": "stdout",
     "output_type": "stream",
     "text": [
      "Hello\n"
     ]
    }
   ],
   "source": [
    "demo = \"      Hello       \"\n",
    "print(demo.strip())"
   ]
  },
  {
   "cell_type": "code",
   "execution_count": 16,
   "id": "5e12380a",
   "metadata": {},
   "outputs": [
    {
     "name": "stdout",
     "output_type": "stream",
     "text": [
      "main\n"
     ]
    }
   ],
   "source": [
    "demo = \"-----------main-----------\"\n",
    "ans = demo.strip(\"-\")\n",
    "print(ans)"
   ]
  },
  {
   "cell_type": "code",
   "execution_count": 18,
   "id": "518bc7d7",
   "metadata": {},
   "outputs": [
    {
     "data": {
      "text/plain": [
       "'Python is good language but I dont Know Python'"
      ]
     },
     "execution_count": 18,
     "metadata": {},
     "output_type": "execute_result"
    }
   ],
   "source": [
    "phase = \"English is good language but I dont Know English\"\n",
    "result = phase.replace(\"English\",\"Python\")\n",
    "result"
   ]
  },
  {
   "cell_type": "code",
   "execution_count": 22,
   "id": "3849193e",
   "metadata": {},
   "outputs": [
    {
     "data": {
      "text/plain": [
       "'hWllo'"
      ]
     },
     "execution_count": 22,
     "metadata": {},
     "output_type": "execute_result"
    }
   ],
   "source": [
    "word = \"hello\"\n",
    "result = word[:1] +\"W\"+word[-3:]\n",
    "result"
   ]
  },
  {
   "cell_type": "code",
   "execution_count": null,
   "id": "3fe60b47",
   "metadata": {},
   "outputs": [],
   "source": []
  }
 ],
 "metadata": {
  "kernelspec": {
   "display_name": "Python 3",
   "language": "python",
   "name": "python3"
  },
  "language_info": {
   "codemirror_mode": {
    "name": "ipython",
    "version": 3
   },
   "file_extension": ".py",
   "mimetype": "text/x-python",
   "name": "python",
   "nbconvert_exporter": "python",
   "pygments_lexer": "ipython3",
   "version": "3.10.11"
  }
 },
 "nbformat": 4,
 "nbformat_minor": 5
}
