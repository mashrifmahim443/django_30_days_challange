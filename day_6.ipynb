{
 "cells": [
  {
   "cell_type": "code",
   "execution_count": 3,
   "id": "394101ae",
   "metadata": {},
   "outputs": [
    {
     "name": "stdout",
     "output_type": "stream",
     "text": [
      "2\n"
     ]
    }
   ],
   "source": [
    "word = \"This is hello world\"\n",
    "\n",
    "res = word.find(\"is\")\n",
    "\n",
    "print(res)"
   ]
  },
  {
   "cell_type": "code",
   "execution_count": 6,
   "id": "e8c9f9b4",
   "metadata": {},
   "outputs": [
    {
     "name": "stdout",
     "output_type": "stream",
     "text": [
      "This is a word\n"
     ]
    }
   ],
   "source": [
    "word = \"This-is-a-word\"\n",
    "res = word.replace(\"-\",\" \")\n",
    "print(res)"
   ]
  },
  {
   "cell_type": "code",
   "execution_count": 8,
   "id": "860facbc",
   "metadata": {},
   "outputs": [
    {
     "name": "stdout",
     "output_type": "stream",
     "text": [
      "['This', 'is', 'hello', 'world', 'print']\n"
     ]
    }
   ],
   "source": [
    "word = \"This-is-hello-world-print\"\n",
    "res = word.split(\"-\")\n",
    "print(res)"
   ]
  },
  {
   "cell_type": "code",
   "execution_count": 9,
   "id": "a4a08d75",
   "metadata": {},
   "outputs": [
    {
     "name": "stdout",
     "output_type": "stream",
     "text": [
      "This is hello world print\n"
     ]
    }
   ],
   "source": [
    "ls = ['This', 'is', 'hello', 'world', 'print']\n",
    "\n",
    "res = \" \".join(ls)\n",
    "\n",
    "print(res)"
   ]
  },
  {
   "cell_type": "code",
   "execution_count": 15,
   "id": "ed917f17",
   "metadata": {},
   "outputs": [
    {
     "data": {
      "text/plain": [
       "'This is an input'"
      ]
     },
     "execution_count": 15,
     "metadata": {},
     "output_type": "execute_result"
    }
   ],
   "source": [
    "temp = \"This    is    an    input\"\n",
    "\n",
    "res = \" \".join(temp.split())\n",
    "\n",
    "res"
   ]
  },
  {
   "cell_type": "code",
   "execution_count": 18,
   "id": "9d500d29",
   "metadata": {},
   "outputs": [
    {
     "data": {
      "text/plain": [
       "False"
      ]
     },
     "execution_count": 18,
     "metadata": {},
     "output_type": "execute_result"
    }
   ],
   "source": [
    "country = \"bangladesh\"\n",
    "\n",
    "country.startswith(\"c\")"
   ]
  },
  {
   "cell_type": "code",
   "execution_count": 21,
   "id": "de210a01",
   "metadata": {},
   "outputs": [
    {
     "data": {
      "text/plain": [
       "False"
      ]
     },
     "execution_count": 21,
     "metadata": {},
     "output_type": "execute_result"
    }
   ],
   "source": [
    "country = \"England\"\n",
    "country.endswith(\"i\")"
   ]
  },
  {
   "cell_type": "code",
   "execution_count": 34,
   "id": "284a5d69",
   "metadata": {},
   "outputs": [
    {
     "name": "stdout",
     "output_type": "stream",
     "text": [
      "True\n",
      "True\n",
      "True\n"
     ]
    }
   ],
   "source": [
    "a = \"12345\"\n",
    "b = \"1A23\"\n",
    "c = \"HEllo\"\n",
    "\n",
    "res1=a.isdigit()\n",
    "print(res1)\n",
    "\n",
    "res2 = c.isalpha()\n",
    "print(res2)\n",
    "\n",
    "res3 = b.isalnum()\n",
    "print(res3)"
   ]
  },
  {
   "cell_type": "code",
   "execution_count": null,
   "id": "d6d0e7e4",
   "metadata": {},
   "outputs": [],
   "source": []
  }
 ],
 "metadata": {
  "kernelspec": {
   "display_name": "Python 3",
   "language": "python",
   "name": "python3"
  },
  "language_info": {
   "codemirror_mode": {
    "name": "ipython",
    "version": 3
   },
   "file_extension": ".py",
   "mimetype": "text/x-python",
   "name": "python",
   "nbconvert_exporter": "python",
   "pygments_lexer": "ipython3",
   "version": "3.10.11"
  }
 },
 "nbformat": 4,
 "nbformat_minor": 5
}
